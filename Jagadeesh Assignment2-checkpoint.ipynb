{
 "cells": [
  {
   "cell_type": "markdown",
   "id": "30642241",
   "metadata": {},
   "source": [
    "### 1.Write a program to print all the natural numbers from 1 to n (user input). Then print the same in reverse order."
   ]
  },
  {
   "cell_type": "code",
   "execution_count": 1,
   "id": "11118a16",
   "metadata": {},
   "outputs": [
    {
     "name": "stdout",
     "output_type": "stream",
     "text": [
      "enter the number10\n",
      "natural numbers are:\n",
      "1 2 3 4 5 6 7 8 9 10 \n",
      "reverse order:\n",
      "10 9 8 7 6 5 4 3 2 1 "
     ]
    }
   ],
   "source": [
    "n=int(input(\"enter the number\"))\n",
    "print(\"natural numbers are:\")\n",
    "for i in range(n):\n",
    "    print(i+1,end=\" \")\n",
    "print(\"\\nreverse order:\")\n",
    "for i in range(n):\n",
    "    print(n-i,end=\" \")"
   ]
  },
  {
   "cell_type": "markdown",
   "id": "7edda748",
   "metadata": {},
   "source": [
    "### 2.Print all odd numbers and even numbers between 1 to 100 "
   ]
  },
  {
   "cell_type": "code",
   "execution_count": 2,
   "id": "67628bd8",
   "metadata": {},
   "outputs": [
    {
     "name": "stdout",
     "output_type": "stream",
     "text": [
      "even numbers are:\n",
      "0 2 4 6 8 10 12 14 16 18 20 22 24 26 28 30 32 34 36 38 40 42 44 46 48 50 52 54 56 58 60 62 64 66 68 70 72 74 76 78 80 82 84 86 88 90 92 94 96 98 100 \n",
      "odd numbers are:\n",
      "1 3 5 7 9 11 13 15 17 19 21 23 25 27 29 31 33 35 37 39 41 43 45 47 49 51 53 55 57 59 61 63 65 67 69 71 73 75 77 79 81 83 85 87 89 91 93 95 97 99 "
     ]
    }
   ],
   "source": [
    "print(\"even numbers are:\")\n",
    "for i in range(0,101):\n",
    "    if i%2==0:\n",
    "        print(i,end=\" \")\n",
    "print(\"\\nodd numbers are:\")\n",
    "for i in range(0,101):\n",
    "    if i%2!=0:\n",
    "        print(i,end=\" \")"
   ]
  },
  {
   "cell_type": "markdown",
   "id": "2b3f756e",
   "metadata": {},
   "source": [
    "### 3.Write a program to check if a number is prime or not. Example: 7 ==> True, 6 ==> False "
   ]
  },
  {
   "cell_type": "code",
   "execution_count": 3,
   "id": "f1d7b76d",
   "metadata": {},
   "outputs": [
    {
     "name": "stdout",
     "output_type": "stream",
     "text": [
      "given value:17\n",
      "true\n"
     ]
    }
   ],
   "source": [
    "#true=prime number,false=not prime\n",
    "n=int(input(\"given value:\"))\n",
    "if n>1:\n",
    "    for i in range(2,n):\n",
    "        if n%i==0: \n",
    "            print(\"false\")\n",
    "            break\n",
    "    else:\n",
    "        print(\"true\")\n",
    "else:\n",
    "    print(\"Not valid\")"
   ]
  },
  {
   "cell_type": "markdown",
   "id": "cb7e35d1",
   "metadata": {},
   "source": [
    "### 4.Write a program that asks the user for a number n and prints the sum of the numbers 1 to n such that only multiples of three or five are considered in the sum, e.g. 3, 5, 6, 9, 10, 12, 15 for n=17.\n"
   ]
  },
  {
   "cell_type": "code",
   "execution_count": 8,
   "id": "ab1b4e33",
   "metadata": {},
   "outputs": [
    {
     "name": "stdout",
     "output_type": "stream",
     "text": [
      "Enter the Number : 17\n",
      "60\n"
     ]
    }
   ],
   "source": [
    "n=int(input(\"Enter the Number : \"))\n",
    "sum=0\n",
    "for i in range(1,n+1):\n",
    "    if i%3==0 or i%5==0:\n",
    "        sum=sum+i\n",
    "print(sum)"
   ]
  },
  {
   "cell_type": "markdown",
   "id": "76ce3f30",
   "metadata": {},
   "source": [
    "### 5. Write a program that asks the user for a number n and gives them the possibility to choose between computing the sum and computing the product of 1,…,n."
   ]
  },
  {
   "cell_type": "code",
   "execution_count": 4,
   "id": "2fe9cce4",
   "metadata": {},
   "outputs": [
    {
     "name": "stdout",
     "output_type": "stream",
     "text": [
      "Enter any number : 6\n",
      "Please Choose any one the options : \n",
      "SUM\n",
      "PRODUCT\n",
      "PRODUCT\n",
      "720\n"
     ]
    }
   ],
   "source": [
    "n=int(input(\"Enter any number : \"))\n",
    "print(\"Please Choose any one the options : \")\n",
    "print(\"SUM\",end=\"\\n\")\n",
    "print(\"PRODUCT\",end=\"\\n\")\n",
    "\n",
    "choice=input()\n",
    "    \n",
    "def mysum():\n",
    "    \n",
    "    count=0\n",
    "    for i in range(n+1):\n",
    "        count=count+i\n",
    "    print(count)\n",
    "\n",
    "def myproduct():\n",
    "    con=1\n",
    "    for i in range(n):\n",
    "        con=con*(i+1)  \n",
    "    print(con)\n",
    "\n",
    "if(choice==\"sum\" or choice==\"SUM\" or choice==\"Sum\"):\n",
    "    mysum()\n",
    "    \n",
    "elif(choice==\"product\" or choice==\"PRODUCT\" or choice==\"Product\"):\n",
    "    myproduct()\n",
    "    \n",
    "else:\n",
    "    print(\"Make a Valid Choice\")\n",
    "\n"
   ]
  },
  {
   "cell_type": "markdown",
   "id": "d445b5d7",
   "metadata": {},
   "source": [
    "### 6.Find the sum of all the multiples of 3 or 5 below 1000. "
   ]
  },
  {
   "cell_type": "code",
   "execution_count": 5,
   "id": "488aafb4",
   "metadata": {},
   "outputs": [
    {
     "name": "stdout",
     "output_type": "stream",
     "text": [
      "sum: 234168\n"
     ]
    }
   ],
   "source": [
    "s = 0\n",
    "for i in range(1,1001):\n",
    " if i%3 == 0 or i%5 == 0:\n",
    "     s+=i\n",
    "print(\"sum:\",s)"
   ]
  },
  {
   "cell_type": "markdown",
   "id": "dd30b2a7",
   "metadata": {},
   "source": [
    "###  7.Write a program which will find all such numbers which are divisible by 7 but are not a multiple of 5, between 2000 and 3200 (both included)."
   ]
  },
  {
   "cell_type": "code",
   "execution_count": 11,
   "id": "d1691a6e",
   "metadata": {},
   "outputs": [
    {
     "name": "stdout",
     "output_type": "stream",
     "text": [
      "2002 2009 2016 2023 2037 2044 2051 2058 2072 2079 2086 2093 2107 2114 2121 2128 2142 2149 2156 2163 2177 2184 2191 2198 2212 2219 2226 2233 2247 2254 2261 2268 2282 2289 2296 2303 2317 2324 2331 2338 2352 2359 2366 2373 2387 2394 2401 2408 2422 2429 2436 2443 2457 2464 2471 2478 2492 2499 2506 2513 2527 2534 2541 2548 2562 2569 2576 2583 2597 2604 2611 2618 2632 2639 2646 2653 2667 2674 2681 2688 2702 2709 2716 2723 2737 2744 2751 2758 2772 2779 2786 2793 2807 2814 2821 2828 2842 2849 2856 2863 2877 2884 2891 2898 2912 2919 2926 2933 2947 2954 2961 2968 2982 2989 2996 3003 3017 3024 3031 3038 3052 3059 3066 3073 3087 3094 3101 3108 3122 3129 3136 3143 3157 3164 3171 3178 3192 3199 "
     ]
    }
   ],
   "source": [
    "for i in range(2000,3201):\n",
    "        if i%7==0 and i%5!=0:\n",
    "             print(i,end=\" \")"
   ]
  },
  {
   "cell_type": "markdown",
   "id": "dd602396",
   "metadata": {},
   "source": [
    "### 8.Find the difference between the sum of the squares of the first one hundred natural numbers and the square of the sum."
   ]
  },
  {
   "cell_type": "code",
   "execution_count": 12,
   "id": "cb0814fa",
   "metadata": {},
   "outputs": [
    {
     "name": "stdout",
     "output_type": "stream",
     "text": [
      "difference between sum of squares and square of sums is: 25164150\n"
     ]
    }
   ],
   "source": [
    "sum_of_squares=0\n",
    "square_of_sums=0\n",
    "sum=0\n",
    "for i in range (1,101):\n",
    " sum = sum + i\n",
    "square_of_sums = sum **2\n",
    "for i in range (1,101):\n",
    " sum_of_squares = sum_of_squares + i*i\n",
    "difference=square_of_sums-sum_of_squares\n",
    "print(\"difference between sum of squares and square of sums is:\",difference)"
   ]
  },
  {
   "cell_type": "markdown",
   "id": "b7485f17",
   "metadata": {},
   "source": [
    "### 9.Write a program which can compute the factorial of a given number. "
   ]
  },
  {
   "cell_type": "code",
   "execution_count": 13,
   "id": "3f9eb764",
   "metadata": {},
   "outputs": [
    {
     "name": "stdout",
     "output_type": "stream",
     "text": [
      "Enter the Number : 5\n",
      "Factorial of number  5 is   120\n"
     ]
    }
   ],
   "source": [
    "n=int(input(\"Enter the Number : \"))\n",
    "def fact(n):\n",
    "     if n==1 or n==0:\n",
    "         return 1\n",
    "     else:\n",
    "         return n*fact(n-1)\n",
    "print(\"Factorial of number \", n , \"is  \", fact(n))"
   ]
  },
  {
   "cell_type": "markdown",
   "id": "5d72d58b",
   "metadata": {},
   "source": [
    "### 10. find the patterns"
   ]
  },
  {
   "cell_type": "code",
   "execution_count": 21,
   "id": "312619a3",
   "metadata": {},
   "outputs": [
    {
     "name": "stdout",
     "output_type": "stream",
     "text": [
      "\n",
      "\n",
      "1 \n",
      "\n",
      "2 2 \n",
      "\n",
      "3 3 3 \n",
      "\n",
      "4 4 4 4 \n",
      "\n",
      "5 5 5 5 5 \n",
      "\n"
     ]
    }
   ],
   "source": [
    "n=5\n",
    "for i in range(n+1):\n",
    "    for j in range(i):\n",
    "        print(i,end=\" \")\n",
    "    print(\"\\n\")"
   ]
  },
  {
   "cell_type": "code",
   "execution_count": 22,
   "id": "7cd0361c",
   "metadata": {},
   "outputs": [
    {
     "name": "stdout",
     "output_type": "stream",
     "text": [
      "5 5 5 5 5 \n",
      "5 4 4 4 5 \n",
      "5 4 3 4 5 \n",
      "5 4 4 4 5 \n",
      "5 5 5 5 5 \n"
     ]
    }
   ],
   "source": [
    "n=5\n",
    "for i in range(n):\n",
    "    for j in range(n):\n",
    "         print(max(i+1,j+1,n-i,n-j),end = \" \")\n",
    "    print(\"\")"
   ]
  },
  {
   "cell_type": "code",
   "execution_count": 25,
   "id": "bec12550",
   "metadata": {},
   "outputs": [
    {
     "name": "stdout",
     "output_type": "stream",
     "text": [
      "\n",
      "\n",
      "\n",
      "* \n",
      "\n",
      "* * \n",
      "\n",
      "* * * \n",
      "\n",
      "* * * * \n",
      "\n",
      "* * * * * \n"
     ]
    }
   ],
   "source": [
    "n=5\n",
    "for i in range(n+1):\n",
    "    print(\"\")\n",
    "    for j in range(i):\n",
    "                print(\"*\",end=\" \")\n",
    "    print(\"\")"
   ]
  },
  {
   "cell_type": "code",
   "execution_count": 23,
   "id": "a71902ba",
   "metadata": {},
   "outputs": [
    {
     "name": "stdout",
     "output_type": "stream",
     "text": [
      "**** \n",
      "*** \n",
      "** \n",
      "* \n",
      " \n"
     ]
    }
   ],
   "source": [
    "n=4\n",
    "for i in range(n+1,0,-1):\n",
    "    for j in range(0,i-1):\n",
    "        print(\"*\",end=\"\")\n",
    "    print(\" \")"
   ]
  },
  {
   "cell_type": "code",
   "execution_count": 24,
   "id": "585b6708",
   "metadata": {},
   "outputs": [
    {
     "name": "stdout",
     "output_type": "stream",
     "text": [
      "#####\n",
      "#####\n",
      "#####\n",
      "#####\n",
      "#####\n"
     ]
    }
   ],
   "source": [
    "n=5\n",
    "for i in range(n-1):\n",
    "     print(\"#\"*n)\n",
    "print(\"#\"*(n))"
   ]
  },
  {
   "cell_type": "markdown",
   "id": "ac83c20d",
   "metadata": {},
   "source": [
    "### 11. Write a program that computes the value of a+aa+aaa+aaaa with a given digit as the value of a. Suppose the following input is supplied to the program: 9, Then,the output should be: 9 + 99 + 999 + 9999 = 1110 "
   ]
  },
  {
   "cell_type": "code",
   "execution_count": 26,
   "id": "7559f713",
   "metadata": {},
   "outputs": [
    {
     "name": "stdout",
     "output_type": "stream",
     "text": [
      "Enter the number:9\n",
      "9 + 99 + 999 + 9999 = 11106\n"
     ]
    }
   ],
   "source": [
    "a = int(input(\"Enter the number:\"))\n",
    "r = 0\n",
    "def add(a, r):\n",
    "    for i in range (1, 5):\n",
    "        r += int(f\"{a}\"*i)\n",
    "        print(f\"{a}\"*i, end = \" \")\n",
    "        if(i < 4):\n",
    "            print(\"+\", end = \" \")\n",
    "        else:\n",
    "            print(\"=\", end = \" \")\n",
    "    return r\n",
    "print(add(a, r))"
   ]
  },
  {
   "cell_type": "markdown",
   "id": "f84a44a3",
   "metadata": {},
   "source": [
    "### 12.Find the length of a string using loops (not len())."
   ]
  },
  {
   "cell_type": "code",
   "execution_count": 28,
   "id": "98ba35e1",
   "metadata": {},
   "outputs": [
    {
     "name": "stdout",
     "output_type": "stream",
     "text": [
      "Enter a string: jagadeesh\n",
      "Length of the string:  9\n"
     ]
    }
   ],
   "source": [
    "string=input(\"Enter a string: \")\n",
    "count=0\n",
    "for i in string:\n",
    "    count+=1\n",
    "print(\"Length of the string: \",count)"
   ]
  },
  {
   "cell_type": "markdown",
   "id": "09285fe7",
   "metadata": {},
   "source": [
    "### 13.Write a program that accepts a sentence (string) and calculate the number of letters and digits. Example: ‘this is a test sentence number 389’ ==> letters = 25 and digits = 3."
   ]
  },
  {
   "cell_type": "code",
   "execution_count": 29,
   "id": "8c940de8",
   "metadata": {},
   "outputs": [
    {
     "name": "stdout",
     "output_type": "stream",
     "text": [
      "enter string:this is a test sentence number 389\n",
      "25 3\n"
     ]
    }
   ],
   "source": [
    "s=input(\"enter string:\")\n",
    "string=s.replace(\" \",\"\")\n",
    "Letter=0\n",
    "Digit=0\n",
    "for i in string:\n",
    "    if i.isdigit():\n",
    "        Digit=Digit+1\n",
    "    else:\n",
    "        Letter=Letter+1\n",
    " \n",
    "print(Letter,Digit)"
   ]
  },
  {
   "cell_type": "markdown",
   "id": "6714c223",
   "metadata": {},
   "source": [
    "### 14.Write a program that accepts a string and outputs the string with all capital letters.Example: ‘hello’ ==> ‘HELLO’. (using loop)"
   ]
  },
  {
   "cell_type": "code",
   "execution_count": 30,
   "id": "a4b67da3",
   "metadata": {},
   "outputs": [
    {
     "name": "stdout",
     "output_type": "stream",
     "text": [
      "Enter any String : hello\n",
      "HELLO"
     ]
    }
   ],
   "source": [
    "n=input(\"Enter any String : \")\n",
    "for i in n:\n",
    "    if i.isalpha():\n",
    "        print(i.capitalize(),end=\"\")"
   ]
  },
  {
   "cell_type": "markdown",
   "id": "6e0e5d50",
   "metadata": {},
   "source": [
    "### 15.Write a program that accepts a sentence and calculate the number of upper case letters and lower case letters."
   ]
  },
  {
   "cell_type": "code",
   "execution_count": 31,
   "id": "aaee6db0",
   "metadata": {},
   "outputs": [
    {
     "name": "stdout",
     "output_type": "stream",
     "text": [
      "Enter a string:python Using DJANGO\n",
      "uppercase: 7\n",
      "lowercase: 10\n"
     ]
    }
   ],
   "source": [
    "s= input(\"Enter a string:\")\n",
    "uppercase = 0\n",
    "lowercase = 0\n",
    "for i in s:\n",
    "    if i.isupper():\n",
    "        uppercase=uppercase+1\n",
    "    elif i.islower():\n",
    "        lowercase=lowercase+1\n",
    "print(\"uppercase:\",uppercase)\n",
    "print(\"lowercase:\",lowercase)"
   ]
  },
  {
   "cell_type": "markdown",
   "id": "611b7c7b",
   "metadata": {},
   "source": [
    "### 16.Write a program that counts the occurrence of a character in a string. Example: ‘This is a test string.’ count of i = 3."
   ]
  },
  {
   "cell_type": "code",
   "execution_count": 32,
   "id": "8c0233bc",
   "metadata": {},
   "outputs": [
    {
     "name": "stdout",
     "output_type": "stream",
     "text": [
      "Enter a string: This is a test string\n",
      "Enter a character of a character in a string: i\n",
      "Number of occurrences of  i are:  3\n"
     ]
    }
   ],
   "source": [
    "s=input(\"Enter a string: \")\n",
    "ch=input(\"Enter a character of a character in a string: \")\n",
    "count=0\n",
    "for i in s:\n",
    "    if(i==ch):\n",
    "        count+=1\n",
    "print(\"Number of occurrences of \",ch,\"are: \",count)"
   ]
  },
  {
   "cell_type": "markdown",
   "id": "512bca9a",
   "metadata": {},
   "source": [
    "### 17.Write a program to find if a given string is a palindrome or not."
   ]
  },
  {
   "cell_type": "code",
   "execution_count": 33,
   "id": "10cdb2b1",
   "metadata": {},
   "outputs": [
    {
     "name": "stdout",
     "output_type": "stream",
     "text": [
      "Enter string: madam\n",
      "Palindrome\n"
     ]
    }
   ],
   "source": [
    "s1=input(\"Enter string: \")\n",
    "s2=s1[::-1]\n",
    "if s1==s2:\n",
    "    print(\"Palindrome\")\n",
    "else:\n",
    "    print(\"Not Palindrome\")"
   ]
  },
  {
   "cell_type": "markdown",
   "id": "37ac9de8",
   "metadata": {},
   "source": [
    "### 18.Write a program which accepts two strings s1 and s2 and checks if s2 is a substring of s1"
   ]
  },
  {
   "cell_type": "code",
   "execution_count": 34,
   "id": "4f86ff1f",
   "metadata": {},
   "outputs": [
    {
     "name": "stdout",
     "output_type": "stream",
     "text": [
      "Enter string:jagadeesh reddy\n",
      "Enter substring:reddy\n",
      "Substring is found\n"
     ]
    }
   ],
   "source": [
    "s=input(\"Enter string:\")\n",
    "sub_s=input(\"Enter substring:\")\n",
    "if(s.find(sub_s)==-1):\n",
    "    print(\"Substring not found\")\n",
    "else:\n",
    "    print(\"Substring is found\")"
   ]
  },
  {
   "cell_type": "markdown",
   "id": "9fe2f691",
   "metadata": {},
   "source": [
    "### 19.Make a password validator with the following checks. A website requires the users to input username and password to register. Write a program to check the validity of password Following are the criteria for checking the password:\n",
    "### 1. At least 1 letter between [a-z] \n",
    "### 2. At least 1 number between [0-9] \n",
    "### 3. At least 1 letter between [@$#%&] "
   ]
  },
  {
   "cell_type": "code",
   "execution_count": 35,
   "id": "fc890dbf",
   "metadata": {},
   "outputs": [
    {
     "name": "stdout",
     "output_type": "stream",
     "text": [
      "Enter password: jaga@987\n",
      "Valid password\n"
     ]
    }
   ],
   "source": [
    "pwd = input(\"Enter password: \")\n",
    "def valid(pwd):\n",
    "    countl = 0\n",
    "    countn = 0\n",
    "    count = 0\n",
    "    for i in pwd:\n",
    "        if (i >= 'a' and i <= 'z'):\n",
    "            countl += 1\n",
    "        elif (i >= '0' and i <= '9'):\n",
    "            countn += 1\n",
    "        elif ((i >= '#' and i <= '&') or i == \"@\"):\n",
    "            count += 1\n",
    " \n",
    "    if (countl >= 1 and countn >= 1 and count >=1):\n",
    "        print(\"Valid password\")\n",
    "    else:\n",
    "        print(\"Invalid password. Please enter again\")\n",
    "        \n",
    "valid(pwd)"
   ]
  },
  {
   "cell_type": "markdown",
   "id": "18503b89",
   "metadata": {},
   "source": [
    "### Q20. s = \"Hello how are you all\". For this given string write a code such that it prints the vowels present in the string s if any. ex: \"i\", \"a\" etc. "
   ]
  },
  {
   "cell_type": "code",
   "execution_count": 42,
   "id": "c1179388",
   "metadata": {},
   "outputs": [
    {
     "name": "stdout",
     "output_type": "stream",
     "text": [
      "The vowels Are :  ['e', 'o', 'o', 'a', 'e', 'o', 'u', 'a']\n"
     ]
    }
   ],
   "source": [
    "s=\"Hello how are you all\"\n",
    "list=[]\n",
    "for i in s:\n",
    "    if i=='a'or i=='i'or i=='e'or i== 'o'or i== 'u' or i=='A'or i=='I'or i=='E'or i== 'O'or i== 'U':\n",
    "        list.append(i)\n",
    "print(\"The vowels Are : \",list)\n"
   ]
  },
  {
   "cell_type": "code",
   "execution_count": null,
   "id": "d3a1bd7a",
   "metadata": {},
   "outputs": [],
   "source": []
  }
 ],
 "metadata": {
  "kernelspec": {
   "display_name": "Python 3",
   "language": "python",
   "name": "python3"
  },
  "language_info": {
   "codemirror_mode": {
    "name": "ipython",
    "version": 3
   },
   "file_extension": ".py",
   "mimetype": "text/x-python",
   "name": "python",
   "nbconvert_exporter": "python",
   "pygments_lexer": "ipython3",
   "version": "3.9.5"
  }
 },
 "nbformat": 4,
 "nbformat_minor": 5
}
